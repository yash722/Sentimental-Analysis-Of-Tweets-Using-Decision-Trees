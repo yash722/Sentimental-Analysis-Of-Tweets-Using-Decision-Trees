{
 "cells": [
  {
   "cell_type": "code",
   "execution_count": null,
   "metadata": {},
   "outputs": [],
   "source": [
    "from sklearn import tree\n",
    "import numpy as np\n",
    "import matplotlib.pyplot as plt\n",
    "import pandas as pd\n",
    "from sklearn.model_selection import train_test_split\n",
    "import nltk\n",
    "from nltk import PorterStemmer\n",
    "import re\n",
    "from sklearn.feature_extraction.text import TfidfVectorizer\n",
    "from sklearn.metrics import f1_score, confusion_matrix,accuracy_score\n",
    "from sklearn import tree\n",
    "\n",
    "# dataset - tweets to get if it is positive(0) or negative(1)\n",
    "train_dataset = pd.read_csv(\"https://raw.githubusercontent.com/dD2405/Twitter_Sentiment_Analysis/master/train.csv\")\n",
    "test_dataset = pd.read_csv(\"https://raw.githubusercontent.com/dD2405/Twitter_Sentiment_Analysis/master/test.csv\")\n",
    "train = train_dataset.copy()\n",
    "test = test_dataset.copy()\n",
    "combined = train.append(test,ignore_index=True,sort=True)\n",
    "# pre_processing\n",
    "def remove_at(text,pattern=\"@\"):\n",
    "    r = re.findall(\"@[\\w]*\",text)\n",
    "    for i in r:\n",
    "        text = re.sub(i,\"\",text)\n",
    "    return text\n",
    "def remove_hash(text,pattern=\"#\"):\n",
    "    r = re.findall(\"#[\\w]*\",text)\n",
    "    for i in r:\n",
    "        text = re.sub(i,\"\",text)\n",
    "    return text\n",
    "# Removing Punctuations\n",
    "combined['tweet'] = np.vectorize(remove_at)(combined['tweet'])\n",
    "combined['tweet'] = np.vectorize(remove_hash)(combined['tweet'])\n",
    "combined['tweet'] = combined['tweet'].str.replace(\"[^a-zA-Z#]\", \" \")\n",
    "# Tokenizing\n",
    "combined['tweet'] = combined['tweet'].apply(lambda x: [w.lower() for w in x.split()])\n",
    "# Eliminating words which are less than 4 words\n",
    "combined['tweet'] = combined['tweet'].apply(lambda x: [w.lower() for w in x if len(w)>3])\n",
    "# Stemming words\n",
    "combined['tweet'] = combined['tweet'].apply(lambda x: \" \".join([PorterStemmer().stem(w) for w in x]))\n",
    "tfidf=TfidfVectorizer(max_df=0.90, min_df=2,max_features=1000,stop_words='english')\n",
    "tfidf_matrix=tfidf.fit_transform(combined['tweet'])\n",
    "df_tfidf = pd.DataFrame(tfidf_matrix.todense())\n",
    "# splitting\n",
    "train_tfidf_matrix = tfidf_matrix[:31962]\n",
    "# data in a matrix\n",
    "train_tfidf_matrix.todense()\n",
    "x_train, x_test, y_train, y_test = train_test_split(train_tfidf_matrix,train['label'],test_size=0.33,random_state=17)\n",
    "# creating and pruning Decision Tree\n",
    "dct = tree.DecisionTreeClassifier(criterion='entropy', random_state=1, max_depth=5)\n",
    "dct.fit(x_train, y_train)\n",
    "y_pred = dct.predict(x_test)\n",
    "tree.plot_tree(dct)\n",
    "acc = accuracy_score(y_test,y_pred)\n",
    "cm = confusion_matrix(y_test, y_pred)\n",
    "f\"Accuracy = {acc*100}% \\n Confusion Matrix = {cm}\""
   ]
  },
  {
   "cell_type": "code",
   "execution_count": null,
   "metadata": {},
   "outputs": [],
   "source": []
  }
 ],
 "metadata": {
  "kernelspec": {
   "display_name": "Python 3",
   "language": "python",
   "name": "python3"
  },
  "language_info": {
   "codemirror_mode": {
    "name": "ipython",
    "version": 3
   },
   "file_extension": ".py",
   "mimetype": "text/x-python",
   "name": "python",
   "nbconvert_exporter": "python",
   "pygments_lexer": "ipython3",
   "version": "3.8.5"
  },
  "metadata": {
   "interpreter": {
    "hash": "bcad12dd709bf7e277df77e000d3b7bbf9d8d115cf7b86ad967eddf01ec9a51a"
   }
  }
 },
 "nbformat": 4,
 "nbformat_minor": 2
}
